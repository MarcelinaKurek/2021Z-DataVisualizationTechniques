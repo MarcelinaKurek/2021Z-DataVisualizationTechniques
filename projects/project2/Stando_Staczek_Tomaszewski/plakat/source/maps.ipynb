{
 "cells": [
  {
   "cell_type": "markdown",
   "metadata": {},
   "source": [
    "Sources:\n",
    "1. map borders: https://gis-support.pl/baza-wiedzy-2/dane-do-pobrania/granice-administracyjne/\n",
    "2. deaths info: read from `data/preprocessed/lollipop_chart.csv`, created during initialization"
   ]
  },
  {
   "cell_type": "code",
   "execution_count": 1,
   "metadata": {},
   "outputs": [
    {
     "name": "stderr",
     "output_type": "stream",
     "text": [
      "Warning message:\n",
      "\"package 'rgdal' was built under R version 4.0.3\"\n",
      "Loading required package: sp\n",
      "\n",
      "Warning message:\n",
      "\"package 'sp' was built under R version 4.0.3\"\n",
      "rgdal: version: 1.5-18, (SVN revision 1082)\n",
      "Geospatial Data Abstraction Library extensions to R successfully loaded\n",
      "Loaded GDAL runtime: GDAL 3.0.4, released 2020/01/28\n",
      "Path to GDAL shared files: C:/Users/Filmos/Documents/R/win-library/4.0/rgdal/gdal\n",
      "GDAL binary built with GEOS: TRUE \n",
      "Loaded PROJ runtime: Rel. 6.3.1, February 10th, 2020, [PJ_VERSION: 631]\n",
      "Path to PROJ shared files: C:/Users/Filmos/Documents/R/win-library/4.0/rgdal/proj\n",
      "Linking to sp version:1.4-4\n",
      "To mute warnings of possible GDAL/OSR exportToProj4() degradation,\n",
      "use options(\"rgdal_show_exportToProj4_warnings\"=\"none\") before loading rgdal.\n",
      "\n",
      "Warning message:\n",
      "\"package 'cartography' was built under R version 4.0.3\"\n",
      "\n",
      "Attaching package: 'dplyr'\n",
      "\n",
      "\n",
      "The following objects are masked from 'package:stats':\n",
      "\n",
      "    filter, lag\n",
      "\n",
      "\n",
      "The following objects are masked from 'package:base':\n",
      "\n",
      "    intersect, setdiff, setequal, union\n",
      "\n",
      "\n",
      "Warning message in OGRSpatialRef(dsn, layer, morphFromESRI = morphFromESRI, dumpSRS = dumpSRS, :\n",
      "\"Discarded datum European_Terrestrial_Reference_System_1989 in CRS definition: +proj=longlat +ellps=GRS80 +towgs84=0,0,0,0,0,0,0 +no_defs\"\n"
     ]
    }
   ],
   "source": [
    "library(rgdal)\n",
    "library(cartography)\n",
    "library(stringi)\n",
    "library(dplyr)\n",
    "s <- Sys.setlocale(\"LC_CTYPE\",\"polish\")\n",
    "\n",
    "setwd(\"./data/maps/\")\n",
    "extractedFiles <- list.files()\n",
    "fileWithShapesName <- extractedFiles[!is.na(stri_match_first_regex(extractedFiles,\".shp\"))]\n",
    "fileWithShapesName <- stri_replace_all_fixed(fileWithShapesName,\".shp\",\"\")\n",
    "my_spdf1 <- readOGR( dsn= \".\" , layer=fileWithShapesName, verbose=FALSE, encoding = 'UTF-8') \n",
    "setwd(\"../..\")\n",
    "\n",
    "Encoding(my_spdf1@data$JPT_NAZWA_) <- \"UTF-8\"\n",
    "orderOnMap <- my_spdf1@data$JPT_NAZWA_\n",
    "\n",
    "\n",
    "df_base <- read.csv(\"data/preprocessed/lollipop_chart.csv\", stringsAsFactors = FALSE, encoding='UTF-8')"
   ]
  },
  {
   "cell_type": "code",
   "execution_count": 2,
   "metadata": {},
   "outputs": [
    {
     "data": {
      "text/html": [
       "<strong>png:</strong> 2"
      ],
      "text/latex": [
       "\\textbf{png:} 2"
      ],
      "text/markdown": [
       "**png:** 2"
      ],
      "text/plain": [
       "png \n",
       "  2 "
      ]
     },
     "metadata": {},
     "output_type": "display_data"
    }
   ],
   "source": [
    "# preparing and sorting data about deaths in the same order as on the map\n",
    "df <- mutate(df_base, deathsPerMilionCitizens2020 = rok_2020/ilosc_mieszkancow_2020*1000000,\n",
    "         wojewodztwo = tolower(wojewodztwo)) %>%\n",
    "  select(wojewodztwo, deathsPerMilionCitizens2020) \n",
    "  \n",
    "df <- df[order(match(df$wojewodztwo, orderOnMap)),]\n",
    "\n",
    "\n",
    "# making map\n",
    "my_spdf1@data$dane <- df$deathsPerMilionCitizens2020\n",
    "breaks <- 1000+150*1:6\n",
    "\n",
    "png(filename = \"charts/death_map.png\", width=840, height=840)\n",
    "par(bg=\"#00000000\")\n",
    "choroLayer(spdf = my_spdf1, \n",
    "           var = \"dane\",\n",
    "           breaks = breaks,\n",
    "           col = c(\"#c9779c\",\"#b16a8e\",\"#9a5e80\",\"#8c5d8a\",\"#785d92\"),\n",
    "           legend.title.txt = \"Total deaths\",\n",
    "           legend.title.cex = 3,\n",
    "           legend.values.rnd = 1,\n",
    "           legend.values.cex = 2,\n",
    "           legend.pos = c(7,49),\n",
    "           legend.horiz = TRUE,\n",
    "           border = \"black\")\n",
    "title(\"Total deaths in 2020\",cex.main=4)\n",
    "dev.off()\n"
   ]
  },
  {
   "cell_type": "code",
   "execution_count": 3,
   "metadata": {},
   "outputs": [
    {
     "data": {
      "text/html": [
       "<strong>png:</strong> 2"
      ],
      "text/latex": [
       "\\textbf{png:} 2"
      ],
      "text/markdown": [
       "**png:** 2"
      ],
      "text/plain": [
       "png \n",
       "  2 "
      ]
     },
     "metadata": {},
     "output_type": "display_data"
    }
   ],
   "source": [
    "# preparing and sorting data in the same order as on the map\n",
    "df <- mutate(df_base, wojewodztwo = tolower(wojewodztwo),\n",
    "         ilosc_mieszkancow_2020 = round(ilosc_mieszkancow_2020/1000000,1)) %>%\n",
    "  select(wojewodztwo, ilosc_mieszkancow_2020) \n",
    "\n",
    "df <- df[order(match(df$wojewodztwo, orderOnMap)),]\n",
    "\n",
    "\n",
    "# making plot\n",
    "my_spdf1@data$dane <- df$ilosc_mieszkancow_2020\n",
    "breaks <- 1:6\n",
    "\n",
    "png(filename = \"charts/population_map.png\", width=840, height=840)\n",
    "par(bg=\"#00000000\")\n",
    "choroLayer(spdf = my_spdf1, \n",
    "           var = \"dane\",\n",
    "         #  col=cols,\n",
    "           breaks = breaks,\n",
    "           col = c(\"#c9779c\",\"#b16a8e\",\"#9a5e80\",\"#8c5d8a\",\"#785d92\"),\n",
    "           legend.title.txt = \"Population\\n(in mln)\",\n",
    "           legend.title.cex = 3,\n",
    "           legend.values.rnd = 1,\n",
    "           legend.values.cex = 2,\n",
    "           legend.pos = c(9,49),\n",
    "           legend.horiz = TRUE,\n",
    "           border = \"black\")\n",
    "title(\"Population\",cex.main=4)\n",
    "dev.off()\n",
    "\n",
    "# to save the map without background press \"zoom\", open new window to fullscreen\n",
    "# and then click with right button and select \"save as...\"\n",
    "\n",
    "# adjust text size with *.cex parameters above"
   ]
  }
 ],
 "metadata": {
  "kernelspec": {
   "display_name": "R",
   "language": "R",
   "name": "ir"
  },
  "language_info": {
   "codemirror_mode": "r",
   "file_extension": ".r",
   "mimetype": "text/x-r-source",
   "name": "R",
   "pygments_lexer": "r",
   "version": "4.0.2"
  }
 },
 "nbformat": 4,
 "nbformat_minor": 4
}
