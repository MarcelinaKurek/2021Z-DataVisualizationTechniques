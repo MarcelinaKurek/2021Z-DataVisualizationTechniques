{
 "cells": [
  {
   "cell_type": "markdown",
   "metadata": {},
   "source": [
    "# Scatter plot - zależność liczby zakażeń, liczby osób zmarłych oraz gęstości zaludnienia na danym obszarze"
   ]
  },
  {
   "cell_type": "markdown",
   "metadata": {},
   "source": [
    "Dane o gęstości zaludnienia i ilości ludności -  *Powierzchnia i ludność w przekroju terytorialnym w 2020 roku* - źródło: GUS\n",
    "\n",
    "Dane o ilości osób zmarłych i zakażonych COVID-19: *COVID-19 w Polsce - zbiór danych stworzony przez Michała Rogalskiego*"
   ]
  },
  {
   "cell_type": "code",
   "execution_count": 1,
   "metadata": {},
   "outputs": [
    {
     "data": {
      "text/html": [
       "<table>\n",
       "<caption>A data.frame: 16 × 5</caption>\n",
       "<thead>\n",
       "\t<tr><th scope=col>wojewodztwo</th><th scope=col>liczba_mieszkancow</th><th scope=col>gestosc_zaludnienia</th><th scope=col>liczba_zgonow</th><th scope=col>liczba_zachorowan</th></tr>\n",
       "\t<tr><th scope=col>&lt;chr&gt;</th><th scope=col>&lt;int&gt;</th><th scope=col>&lt;int&gt;</th><th scope=col>&lt;int&gt;</th><th scope=col>&lt;int&gt;</th></tr>\n",
       "</thead>\n",
       "<tbody>\n",
       "\t<tr><td>Dolnośląskie       </td><td>2900163</td><td>145</td><td>1162</td><td> 67666</td></tr>\n",
       "\t<tr><td>Kujawsko-Pomorskie </td><td>2072373</td><td>115</td><td> 696</td><td> 57489</td></tr>\n",
       "\t<tr><td>Lubelskie          </td><td>2108270</td><td> 84</td><td>1130</td><td> 49759</td></tr>\n",
       "\t<tr><td>Lubuskie           </td><td>1011592</td><td> 72</td><td> 375</td><td> 21912</td></tr>\n",
       "\t<tr><td>Łódzkie            </td><td>2454779</td><td>135</td><td> 868</td><td> 60960</td></tr>\n",
       "\t<tr><td>Małopolskie        </td><td>3410901</td><td>225</td><td>1917</td><td> 87167</td></tr>\n",
       "\t<tr><td>Mazowieckie        </td><td>5423168</td><td>153</td><td>1873</td><td>110359</td></tr>\n",
       "\t<tr><td>Opolskie           </td><td> 982626</td><td>104</td><td> 656</td><td> 27922</td></tr>\n",
       "\t<tr><td>Podkarpackie       </td><td>2127164</td><td>119</td><td>1232</td><td> 49102</td></tr>\n",
       "\t<tr><td>Podlaskie          </td><td>1178353</td><td> 58</td><td> 492</td><td> 25309</td></tr>\n",
       "\t<tr><td>Pomorskie          </td><td>2343928</td><td>128</td><td> 941</td><td> 54846</td></tr>\n",
       "\t<tr><td>Śląskie            </td><td>4517635</td><td>366</td><td>1863</td><td>109488</td></tr>\n",
       "\t<tr><td>Świętokrzyskie     </td><td>1233961</td><td>105</td><td> 581</td><td> 28748</td></tr>\n",
       "\t<tr><td>Warmińsko-Mazurskie</td><td>1422737</td><td> 59</td><td> 632</td><td> 33033</td></tr>\n",
       "\t<tr><td>Wielkopolskie      </td><td>3498733</td><td>117</td><td>1463</td><td> 95220</td></tr>\n",
       "\t<tr><td>Zachodniopomorskie </td><td>1696193</td><td> 74</td><td> 516</td><td> 38495</td></tr>\n",
       "</tbody>\n",
       "</table>\n"
      ],
      "text/latex": [
       "A data.frame: 16 × 5\n",
       "\\begin{tabular}{lllll}\n",
       " wojewodztwo & liczba\\_mieszkancow & gestosc\\_zaludnienia & liczba\\_zgonow & liczba\\_zachorowan\\\\\n",
       " <chr> & <int> & <int> & <int> & <int>\\\\\n",
       "\\hline\n",
       "\t Dolnośląskie        & 2900163 & 145 & 1162 &  67666\\\\\n",
       "\t Kujawsko-Pomorskie  & 2072373 & 115 &  696 &  57489\\\\\n",
       "\t Lubelskie           & 2108270 &  84 & 1130 &  49759\\\\\n",
       "\t Lubuskie            & 1011592 &  72 &  375 &  21912\\\\\n",
       "\t Łódzkie             & 2454779 & 135 &  868 &  60960\\\\\n",
       "\t Małopolskie         & 3410901 & 225 & 1917 &  87167\\\\\n",
       "\t Mazowieckie         & 5423168 & 153 & 1873 & 110359\\\\\n",
       "\t Opolskie            &  982626 & 104 &  656 &  27922\\\\\n",
       "\t Podkarpackie        & 2127164 & 119 & 1232 &  49102\\\\\n",
       "\t Podlaskie           & 1178353 &  58 &  492 &  25309\\\\\n",
       "\t Pomorskie           & 2343928 & 128 &  941 &  54846\\\\\n",
       "\t Śląskie             & 4517635 & 366 & 1863 & 109488\\\\\n",
       "\t Świętokrzyskie      & 1233961 & 105 &  581 &  28748\\\\\n",
       "\t Warmińsko-Mazurskie & 1422737 &  59 &  632 &  33033\\\\\n",
       "\t Wielkopolskie       & 3498733 & 117 & 1463 &  95220\\\\\n",
       "\t Zachodniopomorskie  & 1696193 &  74 &  516 &  38495\\\\\n",
       "\\end{tabular}\n"
      ],
      "text/markdown": [
       "\n",
       "A data.frame: 16 × 5\n",
       "\n",
       "| wojewodztwo &lt;chr&gt; | liczba_mieszkancow &lt;int&gt; | gestosc_zaludnienia &lt;int&gt; | liczba_zgonow &lt;int&gt; | liczba_zachorowan &lt;int&gt; |\n",
       "|---|---|---|---|---|\n",
       "| Dolnośląskie        | 2900163 | 145 | 1162 |  67666 |\n",
       "| Kujawsko-Pomorskie  | 2072373 | 115 |  696 |  57489 |\n",
       "| Lubelskie           | 2108270 |  84 | 1130 |  49759 |\n",
       "| Lubuskie            | 1011592 |  72 |  375 |  21912 |\n",
       "| Łódzkie             | 2454779 | 135 |  868 |  60960 |\n",
       "| Małopolskie         | 3410901 | 225 | 1917 |  87167 |\n",
       "| Mazowieckie         | 5423168 | 153 | 1873 | 110359 |\n",
       "| Opolskie            |  982626 | 104 |  656 |  27922 |\n",
       "| Podkarpackie        | 2127164 | 119 | 1232 |  49102 |\n",
       "| Podlaskie           | 1178353 |  58 |  492 |  25309 |\n",
       "| Pomorskie           | 2343928 | 128 |  941 |  54846 |\n",
       "| Śląskie             | 4517635 | 366 | 1863 | 109488 |\n",
       "| Świętokrzyskie      | 1233961 | 105 |  581 |  28748 |\n",
       "| Warmińsko-Mazurskie | 1422737 |  59 |  632 |  33033 |\n",
       "| Wielkopolskie       | 3498733 | 117 | 1463 |  95220 |\n",
       "| Zachodniopomorskie  | 1696193 |  74 |  516 |  38495 |\n",
       "\n"
      ],
      "text/plain": [
       "   wojewodztwo         liczba_mieszkancow gestosc_zaludnienia liczba_zgonow\n",
       "1  Dolnośląskie        2900163            145                 1162         \n",
       "2  Kujawsko-Pomorskie  2072373            115                  696         \n",
       "3  Lubelskie           2108270             84                 1130         \n",
       "4  Lubuskie            1011592             72                  375         \n",
       "5  Łódzkie             2454779            135                  868         \n",
       "6  Małopolskie         3410901            225                 1917         \n",
       "7  Mazowieckie         5423168            153                 1873         \n",
       "8  Opolskie             982626            104                  656         \n",
       "9  Podkarpackie        2127164            119                 1232         \n",
       "10 Podlaskie           1178353             58                  492         \n",
       "11 Pomorskie           2343928            128                  941         \n",
       "12 Śląskie             4517635            366                 1863         \n",
       "13 Świętokrzyskie      1233961            105                  581         \n",
       "14 Warmińsko-Mazurskie 1422737             59                  632         \n",
       "15 Wielkopolskie       3498733            117                 1463         \n",
       "16 Zachodniopomorskie  1696193             74                  516         \n",
       "   liczba_zachorowan\n",
       "1   67666           \n",
       "2   57489           \n",
       "3   49759           \n",
       "4   21912           \n",
       "5   60960           \n",
       "6   87167           \n",
       "7  110359           \n",
       "8   27922           \n",
       "9   49102           \n",
       "10  25309           \n",
       "11  54846           \n",
       "12 109488           \n",
       "13  28748           \n",
       "14  33033           \n",
       "15  95220           \n",
       "16  38495           "
      ]
     },
     "metadata": {},
     "output_type": "display_data"
    }
   ],
   "source": [
    "s <- Sys.setlocale(\"LC_CTYPE\",\"polish\")\n",
    "df <- read.csv(\"data/preprocessed/scatterplot.csv\", fileEncoding = \"UTF-8\", stringsAsFactors = FALSE)\n",
    "df <- df[ , -1]\n",
    "colnames(df) <- c(\"wojewodztwo\", \"liczba_mieszkancow\", \"gestosc_zaludnienia\", \"liczba_zgonow\", \"liczba_zachorowan\")\n",
    "df"
   ]
  },
  {
   "cell_type": "code",
   "execution_count": 2,
   "metadata": {},
   "outputs": [],
   "source": [
    "df$ilosc_zachorowan_na_mln_mieszkancow <- df$liczba_zachorowan / df$liczba_mieszkancow *10^6\n",
    "df$ilosc_zgonow_na_mln_mieszkancow <- df$liczba_zgonow / df$liczba_mieszkancow *10^6"
   ]
  },
  {
   "cell_type": "code",
   "execution_count": 3,
   "metadata": {},
   "outputs": [
    {
     "data": {
      "text/html": [
       "<table>\n",
       "<caption>A data.frame: 6 × 7</caption>\n",
       "<thead>\n",
       "\t<tr><th></th><th scope=col>wojewodztwo</th><th scope=col>liczba_mieszkancow</th><th scope=col>gestosc_zaludnienia</th><th scope=col>liczba_zgonow</th><th scope=col>liczba_zachorowan</th><th scope=col>ilosc_zachorowan_na_mln_mieszkancow</th><th scope=col>ilosc_zgonow_na_mln_mieszkancow</th></tr>\n",
       "\t<tr><th></th><th scope=col>&lt;chr&gt;</th><th scope=col>&lt;int&gt;</th><th scope=col>&lt;int&gt;</th><th scope=col>&lt;int&gt;</th><th scope=col>&lt;int&gt;</th><th scope=col>&lt;dbl&gt;</th><th scope=col>&lt;dbl&gt;</th></tr>\n",
       "</thead>\n",
       "<tbody>\n",
       "\t<tr><th scope=row>1</th><td>Dolnośląskie      </td><td>2900163</td><td>145</td><td>1162</td><td>67666</td><td>23331.79</td><td>400.6671</td></tr>\n",
       "\t<tr><th scope=row>2</th><td>Kujawsko-Pomorskie</td><td>2072373</td><td>115</td><td> 696</td><td>57489</td><td>27740.66</td><td>335.8469</td></tr>\n",
       "\t<tr><th scope=row>3</th><td>Lubelskie         </td><td>2108270</td><td> 84</td><td>1130</td><td>49759</td><td>23601.82</td><td>535.9845</td></tr>\n",
       "\t<tr><th scope=row>4</th><td>Lubuskie          </td><td>1011592</td><td> 72</td><td> 375</td><td>21912</td><td>21660.91</td><td>370.7028</td></tr>\n",
       "\t<tr><th scope=row>5</th><td>Łódzkie           </td><td>2454779</td><td>135</td><td> 868</td><td>60960</td><td>24833.19</td><td>353.5960</td></tr>\n",
       "\t<tr><th scope=row>6</th><td>Małopolskie       </td><td>3410901</td><td>225</td><td>1917</td><td>87167</td><td>25555.42</td><td>562.0216</td></tr>\n",
       "</tbody>\n",
       "</table>\n"
      ],
      "text/latex": [
       "A data.frame: 6 × 7\n",
       "\\begin{tabular}{r|lllllll}\n",
       "  & wojewodztwo & liczba\\_mieszkancow & gestosc\\_zaludnienia & liczba\\_zgonow & liczba\\_zachorowan & ilosc\\_zachorowan\\_na\\_mln\\_mieszkancow & ilosc\\_zgonow\\_na\\_mln\\_mieszkancow\\\\\n",
       "  & <chr> & <int> & <int> & <int> & <int> & <dbl> & <dbl>\\\\\n",
       "\\hline\n",
       "\t1 & Dolnośląskie       & 2900163 & 145 & 1162 & 67666 & 23331.79 & 400.6671\\\\\n",
       "\t2 & Kujawsko-Pomorskie & 2072373 & 115 &  696 & 57489 & 27740.66 & 335.8469\\\\\n",
       "\t3 & Lubelskie          & 2108270 &  84 & 1130 & 49759 & 23601.82 & 535.9845\\\\\n",
       "\t4 & Lubuskie           & 1011592 &  72 &  375 & 21912 & 21660.91 & 370.7028\\\\\n",
       "\t5 & Łódzkie            & 2454779 & 135 &  868 & 60960 & 24833.19 & 353.5960\\\\\n",
       "\t6 & Małopolskie        & 3410901 & 225 & 1917 & 87167 & 25555.42 & 562.0216\\\\\n",
       "\\end{tabular}\n"
      ],
      "text/markdown": [
       "\n",
       "A data.frame: 6 × 7\n",
       "\n",
       "| <!--/--> | wojewodztwo &lt;chr&gt; | liczba_mieszkancow &lt;int&gt; | gestosc_zaludnienia &lt;int&gt; | liczba_zgonow &lt;int&gt; | liczba_zachorowan &lt;int&gt; | ilosc_zachorowan_na_mln_mieszkancow &lt;dbl&gt; | ilosc_zgonow_na_mln_mieszkancow &lt;dbl&gt; |\n",
       "|---|---|---|---|---|---|---|---|\n",
       "| 1 | Dolnośląskie       | 2900163 | 145 | 1162 | 67666 | 23331.79 | 400.6671 |\n",
       "| 2 | Kujawsko-Pomorskie | 2072373 | 115 |  696 | 57489 | 27740.66 | 335.8469 |\n",
       "| 3 | Lubelskie          | 2108270 |  84 | 1130 | 49759 | 23601.82 | 535.9845 |\n",
       "| 4 | Lubuskie           | 1011592 |  72 |  375 | 21912 | 21660.91 | 370.7028 |\n",
       "| 5 | Łódzkie            | 2454779 | 135 |  868 | 60960 | 24833.19 | 353.5960 |\n",
       "| 6 | Małopolskie        | 3410901 | 225 | 1917 | 87167 | 25555.42 | 562.0216 |\n",
       "\n"
      ],
      "text/plain": [
       "  wojewodztwo        liczba_mieszkancow gestosc_zaludnienia liczba_zgonow\n",
       "1 Dolnośląskie       2900163            145                 1162         \n",
       "2 Kujawsko-Pomorskie 2072373            115                  696         \n",
       "3 Lubelskie          2108270             84                 1130         \n",
       "4 Lubuskie           1011592             72                  375         \n",
       "5 Łódzkie            2454779            135                  868         \n",
       "6 Małopolskie        3410901            225                 1917         \n",
       "  liczba_zachorowan ilosc_zachorowan_na_mln_mieszkancow\n",
       "1 67666             23331.79                           \n",
       "2 57489             27740.66                           \n",
       "3 49759             23601.82                           \n",
       "4 21912             21660.91                           \n",
       "5 60960             24833.19                           \n",
       "6 87167             25555.42                           \n",
       "  ilosc_zgonow_na_mln_mieszkancow\n",
       "1 400.6671                       \n",
       "2 335.8469                       \n",
       "3 535.9845                       \n",
       "4 370.7028                       \n",
       "5 353.5960                       \n",
       "6 562.0216                       "
      ]
     },
     "metadata": {},
     "output_type": "display_data"
    }
   ],
   "source": [
    "head(df)"
   ]
  },
  {
   "cell_type": "code",
   "execution_count": 4,
   "metadata": {},
   "outputs": [
    {
     "name": "stderr",
     "output_type": "stream",
     "text": [
      "\n",
      "Attaching package: 'dplyr'\n",
      "\n",
      "\n",
      "The following objects are masked from 'package:stats':\n",
      "\n",
      "    filter, lag\n",
      "\n",
      "\n",
      "The following objects are masked from 'package:base':\n",
      "\n",
      "    intersect, setdiff, setequal, union\n",
      "\n",
      "\n"
     ]
    },
    {
     "data": {
      "text/html": [
       "<table>\n",
       "<caption>A data.frame: 16 × 8</caption>\n",
       "<thead>\n",
       "\t<tr><th scope=col>wojewodztwo</th><th scope=col>liczba_mieszkancow</th><th scope=col>gestosc_zaludnienia</th><th scope=col>liczba_zgonow</th><th scope=col>liczba_zachorowan</th><th scope=col>ilosc_zachorowan_na_mln_mieszkancow</th><th scope=col>ilosc_zgonow_na_mln_mieszkancow</th><th scope=col>label_for_plot</th></tr>\n",
       "\t<tr><th scope=col>&lt;chr&gt;</th><th scope=col>&lt;int&gt;</th><th scope=col>&lt;int&gt;</th><th scope=col>&lt;int&gt;</th><th scope=col>&lt;int&gt;</th><th scope=col>&lt;dbl&gt;</th><th scope=col>&lt;dbl&gt;</th><th scope=col>&lt;chr&gt;</th></tr>\n",
       "</thead>\n",
       "<tbody>\n",
       "\t<tr><td>Mazowieckie        </td><td>5423168</td><td>153</td><td>1873</td><td>110359</td><td>20349.54</td><td>345.3701</td><td>Mazowieckie </td></tr>\n",
       "\t<tr><td>Podlaskie          </td><td>1178353</td><td> 58</td><td> 492</td><td> 25309</td><td>21478.28</td><td>417.5319</td><td>            </td></tr>\n",
       "\t<tr><td>Lubuskie           </td><td>1011592</td><td> 72</td><td> 375</td><td> 21912</td><td>21660.91</td><td>370.7028</td><td>            </td></tr>\n",
       "\t<tr><td>Zachodniopomorskie </td><td>1696193</td><td> 74</td><td> 516</td><td> 38495</td><td>22694.94</td><td>304.2107</td><td>            </td></tr>\n",
       "\t<tr><td>Podkarpackie       </td><td>2127164</td><td>119</td><td>1232</td><td> 49102</td><td>23083.32</td><td>579.1749</td><td>Podkarpackie</td></tr>\n",
       "\t<tr><td>Warmińsko-Mazurskie</td><td>1422737</td><td> 59</td><td> 632</td><td> 33033</td><td>23217.92</td><td>444.2142</td><td>            </td></tr>\n",
       "\t<tr><td>Świętokrzyskie     </td><td>1233961</td><td>105</td><td> 581</td><td> 28748</td><td>23297.33</td><td>470.8415</td><td>            </td></tr>\n",
       "\t<tr><td>Dolnośląskie       </td><td>2900163</td><td>145</td><td>1162</td><td> 67666</td><td>23331.79</td><td>400.6671</td><td>            </td></tr>\n",
       "\t<tr><td>Pomorskie          </td><td>2343928</td><td>128</td><td> 941</td><td> 54846</td><td>23399.18</td><td>401.4628</td><td>            </td></tr>\n",
       "\t<tr><td>Lubelskie          </td><td>2108270</td><td> 84</td><td>1130</td><td> 49759</td><td>23601.82</td><td>535.9845</td><td>            </td></tr>\n",
       "\t<tr><td>Śląskie            </td><td>4517635</td><td>366</td><td>1863</td><td>109488</td><td>24235.69</td><td>412.3839</td><td>            </td></tr>\n",
       "\t<tr><td>Łódzkie            </td><td>2454779</td><td>135</td><td> 868</td><td> 60960</td><td>24833.19</td><td>353.5960</td><td>            </td></tr>\n",
       "\t<tr><td>Małopolskie        </td><td>3410901</td><td>225</td><td>1917</td><td> 87167</td><td>25555.42</td><td>562.0216</td><td>            </td></tr>\n",
       "\t<tr><td>Wielkopolskie      </td><td>3498733</td><td>117</td><td>1463</td><td> 95220</td><td>27215.57</td><td>418.1514</td><td>            </td></tr>\n",
       "\t<tr><td>Kujawsko-Pomorskie </td><td>2072373</td><td>115</td><td> 696</td><td> 57489</td><td>27740.66</td><td>335.8469</td><td>            </td></tr>\n",
       "\t<tr><td>Opolskie           </td><td> 982626</td><td>104</td><td> 656</td><td> 27922</td><td>28415.69</td><td>667.5989</td><td>Opolskie    </td></tr>\n",
       "</tbody>\n",
       "</table>\n"
      ],
      "text/latex": [
       "A data.frame: 16 × 8\n",
       "\\begin{tabular}{llllllll}\n",
       " wojewodztwo & liczba\\_mieszkancow & gestosc\\_zaludnienia & liczba\\_zgonow & liczba\\_zachorowan & ilosc\\_zachorowan\\_na\\_mln\\_mieszkancow & ilosc\\_zgonow\\_na\\_mln\\_mieszkancow & label\\_for\\_plot\\\\\n",
       " <chr> & <int> & <int> & <int> & <int> & <dbl> & <dbl> & <chr>\\\\\n",
       "\\hline\n",
       "\t Mazowieckie         & 5423168 & 153 & 1873 & 110359 & 20349.54 & 345.3701 & Mazowieckie \\\\\n",
       "\t Podlaskie           & 1178353 &  58 &  492 &  25309 & 21478.28 & 417.5319 &             \\\\\n",
       "\t Lubuskie            & 1011592 &  72 &  375 &  21912 & 21660.91 & 370.7028 &             \\\\\n",
       "\t Zachodniopomorskie  & 1696193 &  74 &  516 &  38495 & 22694.94 & 304.2107 &             \\\\\n",
       "\t Podkarpackie        & 2127164 & 119 & 1232 &  49102 & 23083.32 & 579.1749 & Podkarpackie\\\\\n",
       "\t Warmińsko-Mazurskie & 1422737 &  59 &  632 &  33033 & 23217.92 & 444.2142 &             \\\\\n",
       "\t Świętokrzyskie      & 1233961 & 105 &  581 &  28748 & 23297.33 & 470.8415 &             \\\\\n",
       "\t Dolnośląskie        & 2900163 & 145 & 1162 &  67666 & 23331.79 & 400.6671 &             \\\\\n",
       "\t Pomorskie           & 2343928 & 128 &  941 &  54846 & 23399.18 & 401.4628 &             \\\\\n",
       "\t Lubelskie           & 2108270 &  84 & 1130 &  49759 & 23601.82 & 535.9845 &             \\\\\n",
       "\t Śląskie             & 4517635 & 366 & 1863 & 109488 & 24235.69 & 412.3839 &             \\\\\n",
       "\t Łódzkie             & 2454779 & 135 &  868 &  60960 & 24833.19 & 353.5960 &             \\\\\n",
       "\t Małopolskie         & 3410901 & 225 & 1917 &  87167 & 25555.42 & 562.0216 &             \\\\\n",
       "\t Wielkopolskie       & 3498733 & 117 & 1463 &  95220 & 27215.57 & 418.1514 &             \\\\\n",
       "\t Kujawsko-Pomorskie  & 2072373 & 115 &  696 &  57489 & 27740.66 & 335.8469 &             \\\\\n",
       "\t Opolskie            &  982626 & 104 &  656 &  27922 & 28415.69 & 667.5989 & Opolskie    \\\\\n",
       "\\end{tabular}\n"
      ],
      "text/markdown": [
       "\n",
       "A data.frame: 16 × 8\n",
       "\n",
       "| wojewodztwo &lt;chr&gt; | liczba_mieszkancow &lt;int&gt; | gestosc_zaludnienia &lt;int&gt; | liczba_zgonow &lt;int&gt; | liczba_zachorowan &lt;int&gt; | ilosc_zachorowan_na_mln_mieszkancow &lt;dbl&gt; | ilosc_zgonow_na_mln_mieszkancow &lt;dbl&gt; | label_for_plot &lt;chr&gt; |\n",
       "|---|---|---|---|---|---|---|---|\n",
       "| Mazowieckie         | 5423168 | 153 | 1873 | 110359 | 20349.54 | 345.3701 | Mazowieckie  |\n",
       "| Podlaskie           | 1178353 |  58 |  492 |  25309 | 21478.28 | 417.5319 | <!----> |\n",
       "| Lubuskie            | 1011592 |  72 |  375 |  21912 | 21660.91 | 370.7028 | <!----> |\n",
       "| Zachodniopomorskie  | 1696193 |  74 |  516 |  38495 | 22694.94 | 304.2107 | <!----> |\n",
       "| Podkarpackie        | 2127164 | 119 | 1232 |  49102 | 23083.32 | 579.1749 | Podkarpackie |\n",
       "| Warmińsko-Mazurskie | 1422737 |  59 |  632 |  33033 | 23217.92 | 444.2142 | <!----> |\n",
       "| Świętokrzyskie      | 1233961 | 105 |  581 |  28748 | 23297.33 | 470.8415 | <!----> |\n",
       "| Dolnośląskie        | 2900163 | 145 | 1162 |  67666 | 23331.79 | 400.6671 | <!----> |\n",
       "| Pomorskie           | 2343928 | 128 |  941 |  54846 | 23399.18 | 401.4628 | <!----> |\n",
       "| Lubelskie           | 2108270 |  84 | 1130 |  49759 | 23601.82 | 535.9845 | <!----> |\n",
       "| Śląskie             | 4517635 | 366 | 1863 | 109488 | 24235.69 | 412.3839 | <!----> |\n",
       "| Łódzkie             | 2454779 | 135 |  868 |  60960 | 24833.19 | 353.5960 | <!----> |\n",
       "| Małopolskie         | 3410901 | 225 | 1917 |  87167 | 25555.42 | 562.0216 | <!----> |\n",
       "| Wielkopolskie       | 3498733 | 117 | 1463 |  95220 | 27215.57 | 418.1514 | <!----> |\n",
       "| Kujawsko-Pomorskie  | 2072373 | 115 |  696 |  57489 | 27740.66 | 335.8469 | <!----> |\n",
       "| Opolskie            |  982626 | 104 |  656 |  27922 | 28415.69 | 667.5989 | Opolskie     |\n",
       "\n"
      ],
      "text/plain": [
       "   wojewodztwo         liczba_mieszkancow gestosc_zaludnienia liczba_zgonow\n",
       "1  Mazowieckie         5423168            153                 1873         \n",
       "2  Podlaskie           1178353             58                  492         \n",
       "3  Lubuskie            1011592             72                  375         \n",
       "4  Zachodniopomorskie  1696193             74                  516         \n",
       "5  Podkarpackie        2127164            119                 1232         \n",
       "6  Warmińsko-Mazurskie 1422737             59                  632         \n",
       "7  Świętokrzyskie      1233961            105                  581         \n",
       "8  Dolnośląskie        2900163            145                 1162         \n",
       "9  Pomorskie           2343928            128                  941         \n",
       "10 Lubelskie           2108270             84                 1130         \n",
       "11 Śląskie             4517635            366                 1863         \n",
       "12 Łódzkie             2454779            135                  868         \n",
       "13 Małopolskie         3410901            225                 1917         \n",
       "14 Wielkopolskie       3498733            117                 1463         \n",
       "15 Kujawsko-Pomorskie  2072373            115                  696         \n",
       "16 Opolskie             982626            104                  656         \n",
       "   liczba_zachorowan ilosc_zachorowan_na_mln_mieszkancow\n",
       "1  110359            20349.54                           \n",
       "2   25309            21478.28                           \n",
       "3   21912            21660.91                           \n",
       "4   38495            22694.94                           \n",
       "5   49102            23083.32                           \n",
       "6   33033            23217.92                           \n",
       "7   28748            23297.33                           \n",
       "8   67666            23331.79                           \n",
       "9   54846            23399.18                           \n",
       "10  49759            23601.82                           \n",
       "11 109488            24235.69                           \n",
       "12  60960            24833.19                           \n",
       "13  87167            25555.42                           \n",
       "14  95220            27215.57                           \n",
       "15  57489            27740.66                           \n",
       "16  27922            28415.69                           \n",
       "   ilosc_zgonow_na_mln_mieszkancow label_for_plot\n",
       "1  345.3701                        Mazowieckie   \n",
       "2  417.5319                                      \n",
       "3  370.7028                                      \n",
       "4  304.2107                                      \n",
       "5  579.1749                        Podkarpackie  \n",
       "6  444.2142                                      \n",
       "7  470.8415                                      \n",
       "8  400.6671                                      \n",
       "9  401.4628                                      \n",
       "10 535.9845                                      \n",
       "11 412.3839                                      \n",
       "12 353.5960                                      \n",
       "13 562.0216                                      \n",
       "14 418.1514                                      \n",
       "15 335.8469                                      \n",
       "16 667.5989                        Opolskie      "
      ]
     },
     "metadata": {},
     "output_type": "display_data"
    }
   ],
   "source": [
    "library(dplyr)\n",
    "\n",
    "df_labeled <- df\n",
    "df_labeled$label_for_plot <- rep(\"\", 16)\n",
    "\n",
    "#df_labeled <- df_labeled[order(-df$ilosc_zgonow_na_mln_mieszkancow),]\n",
    "df_labeled <- df_labeled %>% arrange(-ilosc_zgonow_na_mln_mieszkancow)\n",
    "df_labeled[1:2, \"label_for_plot\"] <- df_labeled[1:2, \"wojewodztwo\"]\n",
    "\n",
    "df_labeled <- df_labeled %>% arrange(ilosc_zachorowan_na_mln_mieszkancow)\n",
    "#df_labeled <- df_labeled[order(-df$ilosc_zachorowan_na_mln_mieszkancow),]\n",
    "df_labeled[1, \"label_for_plot\"] <- df_labeled[1, \"wojewodztwo\"]\n",
    "\n",
    "df_labeled"
   ]
  },
  {
   "cell_type": "code",
   "execution_count": 5,
   "metadata": {},
   "outputs": [
    {
     "name": "stderr",
     "output_type": "stream",
     "text": [
      "Warning message:\n",
      "\"package 'ggrepel' was built under R version 4.0.3\"\n",
      "Saving 6.67 x 6.67 in image\n",
      "\n"
     ]
    },
    {
     "data": {
      "image/png": "[encoded data removed]",
      "text/plain": [
       "plot without title"
      ]
     },
     "metadata": {
      "image/png": {
       "height": 420,
       "width": 420
      }
     },
     "output_type": "display_data"
    }
   ],
   "source": [
    "library(ggplot2)\n",
    "library(ggrepel)\n",
    "library(ggthemes)\n",
    "\n",
    "#library(repr)\n",
    "#options(repr.plot.width=10, repr.plot.height=10)\n",
    "\n",
    "ggplot(df_labeled, aes(x = ilosc_zgonow_na_mln_mieszkancow, y = ilosc_zachorowan_na_mln_mieszkancow, label = label_for_plot)) +\n",
    "  geom_point(stroke = 3, aes(size = gestosc_zaludnienia), color = ifelse(df_labeled$label_for_plot != \"\", \"#c9779c\", \"#785d92\")) +\n",
    "  geom_text_repel(min.segment.length = 0, box.padding = 1.5, size = 4.5, fontface = \"bold\", color = \"#30333e\") +\n",
    "  xlab(\"Number of deaths caused by COVID-19 per million citizens\") +\n",
    "  ylab(\"Number of COVID-19 cases per million citizens\") +\n",
    "  ggtitle(\"The relationship between COVID-19 cases, \\n COVID-19 deaths and population density \\n in each voivodeship in October\") +\n",
    "  labs(size = \"Population density [people / km2]:\") +\n",
    "  scale_x_continuous(expand = c(0, 0), limits = c(0, 680)) + \n",
    "  scale_y_continuous(expand = c(0, 0), limits = c(0, max(df$ilosc_zachorowan_na_mln_mieszkancow) * 1.1)) +\n",
    "  theme_bw() +\n",
    "  theme(plot.title = element_text(hjust = 0.5, color = \"#30333e\", size = 19, face = \"bold\"),\n",
    "       legend.position=\"bottom\",\n",
    "       axis.text = element_text(color = \"#30333e\", size = 14, face = \"bold\"),\n",
    "       axis.title = element_text(color = \"#30333e\", size = 14, face = \"bold\"),\n",
    "       legend.text = element_text(size=14, color = \"#30333e\"),\n",
    "       legend.title = element_text(size=12, color = \"#30333e\"),\n",
    "       panel.background = element_rect(fill = \"transparent\", colour = NA),\n",
    "       plot.background = element_rect(fill = \"transparent\", color = NA),\n",
    "       legend.background = element_rect(fill = \"transparent\"),\n",
    "       panel.grid = element_line(colour = \"#c9779c\")\n",
    "       #legend.box.background = element_rect(fill = \"transparent\")\n",
    "       )\n",
    "\n",
    "ggsave(\"charts/scatter_plot.png\", bg = \"transparent\")"
   ]
  }
 ],
 "metadata": {
  "kernelspec": {
   "display_name": "R",
   "language": "R",
   "name": "ir"
  },
  "language_info": {
   "codemirror_mode": "r",
   "file_extension": ".r",
   "mimetype": "text/x-r-source",
   "name": "R",
   "pygments_lexer": "r",
   "version": "4.0.2"
  }
 },
 "nbformat": 4,
 "nbformat_minor": 4
}
