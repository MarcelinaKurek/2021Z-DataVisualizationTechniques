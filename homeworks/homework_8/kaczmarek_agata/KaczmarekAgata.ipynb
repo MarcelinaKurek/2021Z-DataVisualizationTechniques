{
 "cells": [
  {
   "cell_type": "markdown",
   "metadata": {},
   "source": [
    "# Praca domowa 8"
   ]
  },
  {
   "cell_type": "markdown",
   "metadata": {},
   "source": [
    "Na potrzeby tej pracy domowej znalazłam wizualizację w artykule pod tym linkiem ([link](https://www.bankier.pl/wiadomosc/GospoDANEarka-9-wykresow-o-nowej-ropie-ktore-warto-zobaczyc-8015123.html)). Niestety w tym artykule jest ona średnio pokazana (trzeba ją przewijać w okienku), dlatego poszukałam jej oryginalnej wersji: ([link do oryginału](https://howmuch.net/articles/biggest-brands-of-the-world-2020))."
   ]
  },
  {
   "cell_type": "markdown",
   "metadata": {},
   "source": [
    "![oryginalny_wykres.jpg](oryginalny_wykres.jpg)"
   ]
  },
  {
   "cell_type": "markdown",
   "metadata": {},
   "source": [
    "W mojej opinii możemy patrzeć na tą wizualizację przynajmniej z dwóch punktów - osoby chcącej zobaczyć tylko na szybko największe firmy lub osoby, która chciałaby móc odczytać dane również o innych, mniejszych firmach. W mojej wizualizacji przyjmuję drugą wersję jako grupę odbiorców. Stąd moja poniższa wizualizacja będzie się bardziej skupiać na liczbach dotyczących poszczególnych firm, a nie tylko wyróżnieniu kilku największych. Postanowiłam również podzielić powyższą wizualizację na kilka odrębnych, by było widać podział na branże a nie na kontynenty."
   ]
  },
  {
   "cell_type": "code",
   "execution_count": 28,
   "metadata": {},
   "outputs": [],
   "source": [
    "import matplotlib.pyplot as plt\n",
    "import pandas as pd\n",
    "import numpy as np\n",
    "import seaborn as sns"
   ]
  },
  {
   "cell_type": "code",
   "execution_count": 72,
   "metadata": {},
   "outputs": [],
   "source": [
    "Nazwy=['Amazon', 'Alibaba', 'Walmart', 'The Home Depot', 'Costco',\n",
    "          'Microsoft', 'Alphabet', 'Facebook', 'Tencent','Adobe','Salesforce',\n",
    "           'Oracle', 'IBM','Apple','Samsung', 'Cisco','Saudi Aramco', 'Exon Mobil', \n",
    "       'Shell', 'Total'] \n",
    "Wartosci=[1500, 729, 387, 299, 157,1500, 969, 711,637, 224,216,178,150,1900, 330, 175,\n",
    "         1800, 198, 156, 148]#wartości w niektórych przypadkach są oczywiście przybliżone\n",
    "Typ=['Retailing', 'Retailing', 'Retailing','Retailing','Retailing',\n",
    "     'IT','IT','IT','IT','IT','IT', 'IT','IT','Hardware','Hardware','Hardware',\n",
    "     'Oil','Oil','Oil','Oil']"
   ]
  },
  {
   "cell_type": "code",
   "execution_count": 73,
   "metadata": {},
   "outputs": [
    {
     "data": {
      "text/html": [
       "<div>\n",
       "<style scoped>\n",
       "    .dataframe tbody tr th:only-of-type {\n",
       "        vertical-align: middle;\n",
       "    }\n",
       "\n",
       "    .dataframe tbody tr th {\n",
       "        vertical-align: top;\n",
       "    }\n",
       "\n",
       "    .dataframe thead th {\n",
       "        text-align: right;\n",
       "    }\n",
       "</style>\n",
       "<table border=\"1\" class=\"dataframe\">\n",
       "  <thead>\n",
       "    <tr style=\"text-align: right;\">\n",
       "      <th></th>\n",
       "      <th>Nazwy</th>\n",
       "      <th>Wartosci</th>\n",
       "      <th>Typ</th>\n",
       "    </tr>\n",
       "  </thead>\n",
       "  <tbody>\n",
       "    <tr>\n",
       "      <td>0</td>\n",
       "      <td>Amazon</td>\n",
       "      <td>1500</td>\n",
       "      <td>Retailing</td>\n",
       "    </tr>\n",
       "    <tr>\n",
       "      <td>1</td>\n",
       "      <td>Alibaba</td>\n",
       "      <td>729</td>\n",
       "      <td>Retailing</td>\n",
       "    </tr>\n",
       "    <tr>\n",
       "      <td>2</td>\n",
       "      <td>Walmart</td>\n",
       "      <td>387</td>\n",
       "      <td>Retailing</td>\n",
       "    </tr>\n",
       "    <tr>\n",
       "      <td>3</td>\n",
       "      <td>The Home Depot</td>\n",
       "      <td>299</td>\n",
       "      <td>Retailing</td>\n",
       "    </tr>\n",
       "    <tr>\n",
       "      <td>4</td>\n",
       "      <td>Costco</td>\n",
       "      <td>157</td>\n",
       "      <td>Retailing</td>\n",
       "    </tr>\n",
       "    <tr>\n",
       "      <td>5</td>\n",
       "      <td>Microsoft</td>\n",
       "      <td>1500</td>\n",
       "      <td>IT</td>\n",
       "    </tr>\n",
       "    <tr>\n",
       "      <td>6</td>\n",
       "      <td>Alphabet</td>\n",
       "      <td>969</td>\n",
       "      <td>IT</td>\n",
       "    </tr>\n",
       "    <tr>\n",
       "      <td>7</td>\n",
       "      <td>Facebook</td>\n",
       "      <td>711</td>\n",
       "      <td>IT</td>\n",
       "    </tr>\n",
       "    <tr>\n",
       "      <td>8</td>\n",
       "      <td>Tencent</td>\n",
       "      <td>637</td>\n",
       "      <td>IT</td>\n",
       "    </tr>\n",
       "    <tr>\n",
       "      <td>9</td>\n",
       "      <td>Adobe</td>\n",
       "      <td>224</td>\n",
       "      <td>IT</td>\n",
       "    </tr>\n",
       "    <tr>\n",
       "      <td>10</td>\n",
       "      <td>Salesforce</td>\n",
       "      <td>216</td>\n",
       "      <td>IT</td>\n",
       "    </tr>\n",
       "    <tr>\n",
       "      <td>11</td>\n",
       "      <td>Oracle</td>\n",
       "      <td>178</td>\n",
       "      <td>IT</td>\n",
       "    </tr>\n",
       "    <tr>\n",
       "      <td>12</td>\n",
       "      <td>IBM</td>\n",
       "      <td>150</td>\n",
       "      <td>IT</td>\n",
       "    </tr>\n",
       "    <tr>\n",
       "      <td>13</td>\n",
       "      <td>Apple</td>\n",
       "      <td>1900</td>\n",
       "      <td>Hardware</td>\n",
       "    </tr>\n",
       "    <tr>\n",
       "      <td>14</td>\n",
       "      <td>Samsung</td>\n",
       "      <td>330</td>\n",
       "      <td>Hardware</td>\n",
       "    </tr>\n",
       "    <tr>\n",
       "      <td>15</td>\n",
       "      <td>Cisco</td>\n",
       "      <td>175</td>\n",
       "      <td>Hardware</td>\n",
       "    </tr>\n",
       "    <tr>\n",
       "      <td>16</td>\n",
       "      <td>Saudi Aramco</td>\n",
       "      <td>1800</td>\n",
       "      <td>Oil</td>\n",
       "    </tr>\n",
       "    <tr>\n",
       "      <td>17</td>\n",
       "      <td>Exon Mobil</td>\n",
       "      <td>198</td>\n",
       "      <td>Oil</td>\n",
       "    </tr>\n",
       "    <tr>\n",
       "      <td>18</td>\n",
       "      <td>Shell</td>\n",
       "      <td>156</td>\n",
       "      <td>Oil</td>\n",
       "    </tr>\n",
       "    <tr>\n",
       "      <td>19</td>\n",
       "      <td>Total</td>\n",
       "      <td>148</td>\n",
       "      <td>Oil</td>\n",
       "    </tr>\n",
       "  </tbody>\n",
       "</table>\n",
       "</div>"
      ],
      "text/plain": [
       "             Nazwy  Wartosci        Typ\n",
       "0           Amazon      1500  Retailing\n",
       "1          Alibaba       729  Retailing\n",
       "2          Walmart       387  Retailing\n",
       "3   The Home Depot       299  Retailing\n",
       "4           Costco       157  Retailing\n",
       "5        Microsoft      1500         IT\n",
       "6         Alphabet       969         IT\n",
       "7         Facebook       711         IT\n",
       "8          Tencent       637         IT\n",
       "9            Adobe       224         IT\n",
       "10      Salesforce       216         IT\n",
       "11          Oracle       178         IT\n",
       "12             IBM       150         IT\n",
       "13           Apple      1900   Hardware\n",
       "14         Samsung       330   Hardware\n",
       "15           Cisco       175   Hardware\n",
       "16    Saudi Aramco      1800        Oil\n",
       "17      Exon Mobil       198        Oil\n",
       "18           Shell       156        Oil\n",
       "19           Total       148        Oil"
      ]
     },
     "execution_count": 73,
     "metadata": {},
     "output_type": "execute_result"
    }
   ],
   "source": [
    "df=pd.DataFrame(Nazwy)\n",
    "df['Wartosci']=Wartosci\n",
    "df['Typ']=Typ\n",
    "df=df.rename(columns={0:'Nazwy'})\n",
    "df"
   ]
  },
  {
   "cell_type": "code",
   "execution_count": 75,
   "metadata": {},
   "outputs": [
    {
     "data": {
      "image/png": "[encoded data removed]",
      "text/plain": [
       "<Figure size 720x864 with 1 Axes>"
      ]
     },
     "metadata": {
      "needs_background": "light"
     },
     "output_type": "display_data"
    }
   ],
   "source": [
    "fig_dims = (10, 12)\n",
    "fig, ax = plt.subplots(figsize=fig_dims)\n",
    "ay = sns.barplot(x='Wartosci',y='Nazwy', data=df, hue='Typ', dodge=False, ax=ax)\n",
    "plt.xticks(rotation=-45)\n",
    "fig.suptitle(\"Wartości firm w podziale na ich branże\", fontsize=15)\n",
    "ay.set(xlabel='Wartość w miliardach dolarów', ylabel='Nazwa firmy')\n",
    "plt.show()"
   ]
  },
  {
   "cell_type": "markdown",
   "metadata": {},
   "source": [
    "Moja wizualizacja znacznie różni się od pierwowzoru, ponieważ przedstawia tylko dwadzieścia firm. Jednak przedstawia te, które należą do branż zawierających największe z firm. Dzięki takiemu przedstawieniu firm (wykres słupkowy odwrócony, mniejsza ilość firm) można łatwiej odczytać wartość poszczególnych z nich. Są one również pogrupowane kolorystycznie między branże, tak jak w oryginalnej wizualizacji. Co więcej przedstawienie w takiej formie wykresu ułatwia porównanie wartości firm oraz ile razy która jest większa od innej - w oryginalnej wizualizacji było to trudne ze względu na potrzebę porównywania pól kół. W mojej wizualizacji można również dużo łatwiej odczytać nazwy firm, tam czasem nazwa zlewała się z kolorem koła."
   ]
  }
 ],
 "metadata": {
  "kernelspec": {
   "display_name": "Python 3",
   "language": "python",
   "name": "python3"
  },
  "language_info": {
   "codemirror_mode": {
    "name": "ipython",
    "version": 3
   },
   "file_extension": ".py",
   "mimetype": "text/x-python",
   "name": "python",
   "nbconvert_exporter": "python",
   "pygments_lexer": "ipython3",
   "version": "3.7.4"
  }
 },
 "nbformat": 4,
 "nbformat_minor": 2
}
